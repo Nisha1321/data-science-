{
 "cells": [
  {
   "cell_type": "markdown",
   "id": "4d7d3f79-f588-46b8-b48f-d2ec61828509",
   "metadata": {
    "tags": []
   },
   "source": [
    "# H1: Data Science Tool and Ecosystem "
   ]
  },
  {
   "cell_type": "markdown",
   "id": "0b292a39-eff4-4fc5-ac9f-efcf7b4ff96e",
   "metadata": {},
   "source": [
    "In this notebook, Data Science Tools and Ecosystem are summarized."
   ]
  },
  {
   "cell_type": "markdown",
   "id": "7bc8f254-53bf-439f-b050-382accf4f3e1",
   "metadata": {
    "tags": []
   },
   "source": [
    "# Some of the popular languages that Data Scientists use are:\n",
    "1. Python\n",
    "2. R\n",
    "3. C++\n",
    "4. Java\n",
    "\n",
    "\n"
   ]
  },
  {
   "cell_type": "markdown",
   "id": "727669b4-82c6-4ea0-b635-ef2860daa5e9",
   "metadata": {},
   "source": [
    "# Some of the commonly used libraries used by Data Scientists include:\n",
    "1. Numpy\n",
    "2. Pandas\n",
    "3. TenserFlow\n",
    "4. Mat"
   ]
  },
  {
   "cell_type": "markdown",
   "id": "c8f14b8c-a0e7-4135-a4c9-644d472858fc",
   "metadata": {},
   "source": [
    "\n",
    "| Data Science Tools|\n",
    "|-------------------|\n",
    "|    RStudio        |\n",
    "|  Apache Spark     | \n",
    "|  TenserFlow       |\n",
    "|  Apache Hadoop    |\n"
   ]
  },
  {
   "cell_type": "markdown",
   "id": "202826b1-111b-41ac-a36f-14248a344987",
   "metadata": {},
   "source": [
    "### H3:Below are a few examples of evaluating arithmetic expressions in Python"
   ]
  },
  {
   "cell_type": "code",
   "execution_count": 2,
   "id": "fc925d25-7702-4672-9d89-988e0490fc82",
   "metadata": {
    "tags": []
   },
   "outputs": [
    {
     "data": {
      "text/plain": [
       "17"
      ]
     },
     "execution_count": 2,
     "metadata": {},
     "output_type": "execute_result"
    }
   ],
   "source": [
    "# This a simple arithmetic expression to mutiply then add integers\n",
    "(3*4)+5"
   ]
  },
  {
   "cell_type": "code",
   "execution_count": 5,
   "id": "1748a0ef-3627-4d12-ada9-d85b1f7a73c4",
   "metadata": {
    "tags": []
   },
   "outputs": [
    {
     "data": {
      "text/plain": [
       "3"
      ]
     },
     "execution_count": 5,
     "metadata": {},
     "output_type": "execute_result"
    }
   ],
   "source": [
    "# This will convert 200 minutes to hours by diving by 60\n",
    "int(200 / 60)\n"
   ]
  },
  {
   "cell_type": "markdown",
   "id": "93f1aa3d-0935-4863-94c7-b5e6a33f7596",
   "metadata": {},
   "source": [
    "# List popular languages for Data Science\n",
    "***objectives***\n",
    "- python\n",
    "- java\n",
    "- R\n",
    "- c++"
   ]
  },
  {
   "cell_type": "markdown",
   "id": "9db09096-e913-4bfa-9f90-009a5957e0c6",
   "metadata": {},
   "source": [
    "## H2:Author\n",
    "Nisha"
   ]
  },
  {
   "cell_type": "code",
   "execution_count": null,
   "id": "9bf31d17-3664-4f5c-bd56-ddce4857a3f2",
   "metadata": {},
   "outputs": [],
   "source": []
  }
 ],
 "metadata": {
  "kernelspec": {
   "display_name": "Python",
   "language": "python",
   "name": "conda-env-python-py"
  },
  "language_info": {
   "codemirror_mode": {
    "name": "ipython",
    "version": 3
   },
   "file_extension": ".py",
   "mimetype": "text/x-python",
   "name": "python",
   "nbconvert_exporter": "python",
   "pygments_lexer": "ipython3",
   "version": "3.7.12"
  }
 },
 "nbformat": 4,
 "nbformat_minor": 5
}
