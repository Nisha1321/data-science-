{
 "cells": [
  {
   "cell_type": "markdown",
   "id": "4d7d3f79-f588-46b8-b48f-d2ec61828509",
   "metadata": {
    "tags": []
   },
   "source": [
    "# H1: Data Science Tool and Ecosystem "
   ]
  },
  {
   "cell_type": "markdown",
   "id": "0b292a39-eff4-4fc5-ac9f-efcf7b4ff96e",
   "metadata": {},
   "source": [
    "In this notebook, Data Science Tools and Ecosystem are summarized."
   ]
  },
  {
   "cell_type": "markdown",
   "id": "bcb112b4-f75b-4fa7-8aa9-6a69b42f80b6",
   "metadata": {
    "tags": []
   },
   "source": [
    "Some of the popular languages that Data Scientists use are:\n",
    "1. Python\n",
    "2. R\n",
    "3. C++\n",
    "4. Java\n",
    "\n",
    "\n"
   ]
  },
  {
   "cell_type": "markdown",
   "id": "976faf2d-e56d-47ba-a4b3-f7542a1ee4fc",
   "metadata": {},
   "source": [
    "Some of the commonly used libraries used by Data Scientists include:\n",
    "1. Numpy\n",
    "2. Pandas\n",
    "3. TenserFlow\n",
    "4. Mat"
   ]
  },
  {
   "cell_type": "markdown",
   "id": "c8f14b8c-a0e7-4135-a4c9-644d472858fc",
   "metadata": {},
   "source": [
    "\n",
    "| Data Science Tools|\n",
    "|-------------------|\n",
    "|    RStudio        |\n",
    "|  Apache Spark     | \n",
    "|  TenserFlow       |\n",
    "|  Apache Hadoop    |\n"
   ]
  },
  {
   "cell_type": "markdown",
   "id": "202826b1-111b-41ac-a36f-14248a344987",
   "metadata": {},
   "source": [
    "### H3:Below are a few examples of evaluating arithmetic expressions in Python"
   ]
  },
  {
   "cell_type": "code",
   "execution_count": 2,
   "id": "ff5687a1-7a81-47cc-b78f-182144e1686e",
   "metadata": {
    "tags": []
   },
   "outputs": [
    {
     "data": {
      "text/plain": [
       "17"
      ]
     },
     "execution_count": 2,
     "metadata": {},
     "output_type": "execute_result"
    }
   ],
   "source": [
    "# This a simple arithmetic expression to mutiply then add integers\n",
    "(3*4)+5"
   ]
  },
  {
   "cell_type": "code",
   "execution_count": 5,
   "id": "1748a0ef-3627-4d12-ada9-d85b1f7a73c4",
   "metadata": {
    "tags": []
   },
   "outputs": [
    {
     "data": {
      "text/plain": [
       "3"
      ]
     },
     "execution_count": 5,
     "metadata": {},
     "output_type": "execute_result"
    }
   ],
   "source": [
    "# This will convert 200 minutes to hours by diving by 60\n",
    "int(200 / 60)\n"
   ]
  },
  {
   "cell_type": "markdown",
   "id": "0313f79e-897d-40a4-b565-415d19eb6738",
   "metadata": {
    "tags": []
   },
   "source": [
    "**objectives**\n",
    "\n",
    "\n",
    "List popular languages for Data Science.\n",
    "- python\n",
    "- java\n",
    "- R\n",
    "- c++"
   ]
  },
  {
   "cell_type": "markdown",
   "id": "9db09096-e913-4bfa-9f90-009a5957e0c6",
   "metadata": {},
   "source": [
    "## H2:Author\n",
    "Nisha"
   ]
  },
  {
   "cell_type": "code",
   "execution_count": null,
   "id": "9bf31d17-3664-4f5c-bd56-ddce4857a3f2",
   "metadata": {},
   "outputs": [],
   "source": []
  }
 ],
 "metadata": {
  "kernelspec": {
   "display_name": "Python",
   "language": "python",
   "name": "conda-env-python-py"
  },
  "language_info": {
   "codemirror_mode": {
    "name": "ipython",
    "version": 3
   },
   "file_extension": ".py",
   "mimetype": "text/x-python",
   "name": "python",
   "nbconvert_exporter": "python",
   "pygments_lexer": "ipython3",
   "version": "3.7.12"
  }
 },
 "nbformat": 4,
 "nbformat_minor": 5
}
